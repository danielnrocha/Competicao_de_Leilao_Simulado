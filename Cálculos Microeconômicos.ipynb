{
 "cells": [
  {
   "cell_type": "markdown",
   "metadata": {},
   "source": [
    "# Cálculos Microeconômicos\n",
    "Derivação das fórmulas do leilão selado de primeiro preço, com base em formulações da Teoria Microeconômica.<br><br>"
   ]
  },
  {
   "cell_type": "markdown",
   "metadata": {},
   "source": [
    "## **Definindo Variáveis**<br><br>\n",
    "### $b_i := \\text{Lance}$<br><br>\n",
    "### $c_i := \\text{Custo de Produção}$<br><br>\n",
    "### $B := \\text{Conjunto de Lances das outras Firmas}$<br><br>\n",
    "### $b(c_i) := \\text{Função que determina Lance Ótimo a partir do Custo de Produção } (b'(c_i) > 0)$<br><br>"
   ]
  },
  {
   "cell_type": "markdown",
   "metadata": {},
   "source": [
    "## **Problema do Licitante**<br><br>\n",
    "### $\\max(b_i - c_i) \\cdot Prob(b_i < \\min B)$<br><br>\n",
    "### $\\max(b_i - c_i) \\cdot Prob(b_i < \\min B) \\iff \\max(b_i - c_i) \\cdot Prob (b'(b_i) < \\min C)$<br><br>\n",
    "### $Prob(b'(b_i) < \\min C) = g(b^{-1}(b_i))$<br><br>\n",
    "### $\\max(b_i - c_i) \\cdot g(b^{-1}(b_i))$<br><br>"
   ]
  },
  {
   "cell_type": "markdown",
   "metadata": {},
   "source": [
    "## **Resolvendo a Maximização**<br><br>\n",
    "### $\\frac{\\partial (b_i - c_i) \\cdot g(b^{-1}(b_i))}{\\partial b_i} = g(b^{-1}(b_i))+ (b_i - c_i) \\cdot \\frac{g'(b^{-1}(b_i))}{b'(b^{-1}(b_i))} = 0$<br><br>\n",
    "### $b^{-1}(b_i) = c_i$<br><br>\n",
    "### $b_i = b(c_i)$<br><br>\n",
    "### $g(c_i) + (b(c_i) - c_i) \\cdot \\frac{g'(c_i)}{b'(c_i)} = 0$<br><br>\n",
    "### $g(c_i) \\cdot b'(c_i) + g'(c_i) \\cdot b(c_i) = g'(c_i) \\cdot c_i$<br><br>"
   ]
  },
  {
   "cell_type": "markdown",
   "metadata": {},
   "source": [
    "## **Resolvendo a EDO**<br><br>\n",
    "### $b'(c_i) + \\frac{g'(c_i)}{g(c_i)} \\cdot b(c_i) = \\frac{g'(c_i)}{g(c_i)} \\cdot c_i$<br><br>\n",
    "### $ \\frac{\\partial ({\\rm e}^{\\int \\frac{g'(c_i)}{g(c_i)}} \\cdot b(c_i))}{\\partial c_i} = {\\rm e}^{\\int \\frac{g'(c_i)}{g(c_i)}} \\cdot \\frac{g'(c_i) \\cdot c_i}{g(c_i)}$<br><br>\n",
    "### $ {\\rm e}^{ln(g(c_i))} \\cdot b(c_i) = \\int \\frac{{\\rm e}^{ln(g(c_i))} \\cdot {g'(c_i) \\cdot c_i}}{g(c_i)}$<br><br>\n",
    "### $b(c_i) \\cdot g(c_i) = \\int{g'(c_i) \\cdot c_i}$<br><br>\n",
    "### $b(c_i) = \\frac{1}{g(c_i)} \\cdot (g(c_i) \\cdot c_i - \\int{g(c_i)})$<br><br>\n",
    "### $b(c_i) = c_i - \\frac{\\int{g(c_i)}}{g(c_i)}$"
   ]
  }
 ],
 "metadata": {
  "kernelspec": {
   "display_name": "Python 3",
   "language": "python",
   "name": "python3"
  },
  "language_info": {
   "codemirror_mode": {
    "name": "ipython",
    "version": 3
   },
   "file_extension": ".py",
   "mimetype": "text/x-python",
   "name": "python",
   "nbconvert_exporter": "python",
   "pygments_lexer": "ipython3",
   "version": "3.7.7"
  }
 },
 "nbformat": 4,
 "nbformat_minor": 4
}
